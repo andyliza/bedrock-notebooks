{
 "cells": [
  {
   "cell_type": "code",
   "execution_count": 2,
   "metadata": {},
   "outputs": [],
   "source": [
    "import base64\n",
    "import os\n",
    "import boto3\n",
    "import json\n",
    "from IPython.display import Image"
   ]
  },
  {
   "cell_type": "code",
   "execution_count": 3,
   "metadata": {},
   "outputs": [],
   "source": [
    "bedrock = boto3.client(service_name=\"bedrock-runtime\", region_name=\"us-east-1\")\n",
    "modelId = 'anthropic.claude-v2'\n",
    "accept = 'application/json'\n",
    "contentType = 'application/json'"
   ]
  },
  {
   "cell_type": "code",
   "execution_count": 4,
   "metadata": {},
   "outputs": [
    {
     "name": "stdout",
     "output_type": "stream",
     "text": [
      " Okay, let's solve this simple math problem:\n",
      "2 x 2 = 4\n",
      "Therefore, 2 x 2 equals 4.\n"
     ]
    }
   ],
   "source": [
    "# NOTE: Body must same as following style\n",
    "prompt = \"Can you tell me how much is 2x2?\"\n",
    "claude_prompt = f\"\\n\\nHuman:{prompt}\\n\\nAssistant:\"\n",
    "body = json.dumps({\n",
    "                \"prompt\": claude_prompt,\n",
    "                \"temperature\": 0.5,\n",
    "                \"top_p\": 1,\n",
    "                \"top_k\": 250,\n",
    "                \"max_tokens_to_sample\": 200,\n",
    "                \"stop_sequences\": [\"\\n\\nHuman:\"]\n",
    "                })\n",
    "response = bedrock.invoke_model(body=body, modelId=modelId, accept=accept, contentType=contentType)\n",
    "response_body = json.loads(response.get('body').read())\n",
    "print(response_body.get('completion'))"
   ]
  },
  {
   "cell_type": "code",
   "execution_count": 13,
   "metadata": {},
   "outputs": [
    {
     "data": {
      "image/jpeg": "[encoded data removed]",
      "text/plain": [
       "<IPython.core.display.Image object>"
      ]
     },
     "execution_count": 13,
     "metadata": {
      "image/jpeg": {
       "height": 300,
       "width": 300
      }
     },
     "output_type": "execute_result"
    }
   ],
   "source": [
    "\n",
    "imagepath = r'C:\\Users\\jrliz\\Downloads\\t-rex3.jpg'\n",
    "Image(filename=imagepath, width=300, height=300)"
   ]
  },
  {
   "cell_type": "code",
   "execution_count": 8,
   "metadata": {},
   "outputs": [],
   "source": [
    "def get_base64_encoded_image(image_path):\n",
    "    with open(image_path, \"rb\") as image_file:\n",
    "        binary_data = image_file.read()\n",
    "        base_64_encoded_data = base64.b64encode(binary_data)\n",
    "        base64_string = base_64_encoded_data.decode('utf-8')\n",
    "        return base64_string"
   ]
  },
  {
   "cell_type": "code",
   "execution_count": 16,
   "metadata": {},
   "outputs": [
    {
     "name": "stdout",
     "output_type": "stream",
     "text": [
      " Based on the image provided, this appears to be a toy model of a Tyrannosaurus rex dinosaur. The key identifying features are the large head with large jaws and teeth, short arms with two clawed fingers, thick and muscular body, long tail, and two strong hind limbs. The green coloration and sculpted scales are also typical for depictions of a T. rex.\n"
     ]
    }
   ],
   "source": [
    "\n",
    "prompt = [\n",
    "            {\"type\": \"image\", \"source\": {\"type\": \"base64\", \"media_type\": \"image/jpeg\", \"data\": get_base64_encoded_image(imagepath)}},\n",
    "            {\"type\": \"text\", \"text\": \"What dinosaur toy is in this picture?\"}\n",
    "        ]\n",
    "claude_prompt = f\"\\n\\nHuman:{prompt}\\n\\nAssistant:\"\n",
    "body = json.dumps({\n",
    "                \"prompt\": claude_prompt,\n",
    "                \"temperature\": 0.5,\n",
    "                \"top_p\": 1,\n",
    "                \"top_k\": 250,\n",
    "                \"max_tokens_to_sample\": 200,\n",
    "                \"stop_sequences\": [\"\\n\\nHuman:\"]\n",
    "                })\n",
    "response = bedrock.invoke_model(body=body, modelId=modelId, accept=accept, contentType=contentType)\n",
    "response_body = json.loads(response.get('body').read())\n",
    "print(response_body.get('completion'))\n"
   ]
  }
 ],
 "metadata": {
  "kernelspec": {
   "display_name": "Python 3",
   "language": "python",
   "name": "python3"
  },
  "language_info": {
   "codemirror_mode": {
    "name": "ipython",
    "version": 3
   },
   "file_extension": ".py",
   "mimetype": "text/x-python",
   "name": "python",
   "nbconvert_exporter": "python",
   "pygments_lexer": "ipython3",
   "version": "3.12.0"
  }
 },
 "nbformat": 4,
 "nbformat_minor": 2
}
